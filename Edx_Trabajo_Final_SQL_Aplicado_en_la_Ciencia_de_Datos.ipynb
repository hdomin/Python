{
  "nbformat": 4,
  "nbformat_minor": 0,
  "metadata": {
    "colab": {
      "name": "Edx - Trabajo Final - SQL Aplicado en la Ciencia de Datos.ipynb",
      "provenance": [],
      "collapsed_sections": [],
      "toc_visible": true,
      "authorship_tag": "ABX9TyOszvFr+hxFZN+IzA3dLAKH",
      "include_colab_link": true
    },
    "kernelspec": {
      "name": "python3",
      "display_name": "Python 3"
    },
    "language_info": {
      "name": "python"
    }
  },
  "cells": [
    {
      "cell_type": "markdown",
      "metadata": {
        "id": "view-in-github",
        "colab_type": "text"
      },
      "source": [
        "<a href=\"https://colab.research.google.com/github/hdomin/Python/blob/main/Edx_Trabajo_Final_SQL_Aplicado_en_la_Ciencia_de_Datos.ipynb\" target=\"_parent\"><img src=\"https://colab.research.google.com/assets/colab-badge.svg\" alt=\"Open In Colab\"/></a>"
      ]
    },
    {
      "cell_type": "code",
      "source": [
        "#pip install --upgrade 'SQLAlchemy<1.4'\n",
        "#pip install ibm_db_sa\n",
        "#pip install ibm_db\n",
        "!pip install --upgrade ibm_db\n",
        "!pip install --upgrade ibm_db_sa\n",
        "!pip install --upgrade 'SQLAlchemy<1.4'"
      ],
      "metadata": {
        "colab": {
          "base_uri": "https://localhost:8080/"
        },
        "id": "E4KFEexwkIEj",
        "outputId": "aad1e478-6279-4206-c860-ae6062b11629"
      },
      "execution_count": 1,
      "outputs": [
        {
          "output_type": "stream",
          "name": "stdout",
          "text": [
            "Requirement already satisfied: ibm_db in /usr/local/lib/python3.7/dist-packages (3.1.1)\n",
            "Requirement already satisfied: ibm_db_sa in /usr/local/lib/python3.7/dist-packages (0.3.7)\n",
            "Requirement already satisfied: sqlalchemy>=0.7.3 in /usr/local/lib/python3.7/dist-packages (from ibm_db_sa) (1.3.24)\n",
            "Requirement already satisfied: ibm-db>=2.0.0 in /usr/local/lib/python3.7/dist-packages (from ibm_db_sa) (3.1.1)\n",
            "Requirement already satisfied: SQLAlchemy<1.4 in /usr/local/lib/python3.7/dist-packages (1.3.24)\n"
          ]
        }
      ]
    },
    {
      "cell_type": "code",
      "execution_count": 2,
      "metadata": {
        "id": "rgxR7vH0aijp"
      },
      "outputs": [],
      "source": [
        "import pandas as pd\n",
        "\n",
        "import ibm_db\n",
        "import ibm_db_sa\n",
        "import sqlalchemy\n",
        "import ibm_db_dbi\n",
        "\n",
        "from sqlalchemy import *\n"
      ]
    },
    {
      "cell_type": "code",
      "source": [
        "%load_ext sql"
      ],
      "metadata": {
        "id": "ZN5PYhZaBTDm"
      },
      "execution_count": 3,
      "outputs": []
    },
    {
      "cell_type": "code",
      "source": [
        "%sql ibm_db_sa://<user>:<password>@<host>:<port>/<database>?security=SSL"
      ],
      "metadata": {
        "colab": {
          "base_uri": "https://localhost:8080/",
          "height": 37
        },
        "id": "3jNFTDJmBgbp",
        "outputId": "1291d45e-421b-44f7-ba5e-105816706072"
      },
      "execution_count": 4,
      "outputs": [
        {
          "output_type": "execute_result",
          "data": {
            "text/plain": [
              "'Connected: hvc33796@bludb'"
            ],
            "application/vnd.google.colaboratory.intrinsic+json": {
              "type": "string"
            }
          },
          "metadata": {},
          "execution_count": 4
        }
      ]
    },
    {
      "cell_type": "code",
      "source": [
        "CENSUS_DATA = pd.read_csv('https://ibm.box.com/shared/static/05c3415cbfbtfnr2fx4atenb2sd361ze.csv')\n",
        "CHICAGO_PUBLIC_SCHOOLS = pd.read_csv('https://ibm.box.com/shared/static/f9gjvj1gjmxxzycdhplzt01qtz0s7ew7.csv')\n",
        "CHICAGO_CRIME_DATA = pd.read_csv('https://ibm.box.com/shared/static/svflyugsr9zbqy5bmowgswqemfpm1x7f.csv')"
      ],
      "metadata": {
        "id": "I739L_V9k9Oc"
      },
      "execution_count": 6,
      "outputs": []
    },
    {
      "cell_type": "code",
      "source": [
        "CENSUS_DATA.shape, CHICAGO_PUBLIC_SCHOOLS.shape, CHICAGO_CRIME_DATA.shape"
      ],
      "metadata": {
        "colab": {
          "base_uri": "https://localhost:8080/"
        },
        "id": "FG8Cu-gqq8Tr",
        "outputId": "a3d7c36f-5946-4884-8a34-700322583b36"
      },
      "execution_count": 7,
      "outputs": [
        {
          "output_type": "execute_result",
          "data": {
            "text/plain": [
              "((78, 9), (566, 78), (533, 22))"
            ]
          },
          "metadata": {},
          "execution_count": 7
        }
      ]
    },
    {
      "cell_type": "code",
      "source": [
        "%sql DROP TABLE CENSUS_DATA\n",
        "%sql DROP TABLE CHICAGO_PUBLIC_SCHOOLS\n",
        "%sql DROP TABLE CHICAGO_CRIME_DATA\n",
        "%sql PERSIST CENSUS_DATA\n",
        "%sql PERSIST CHICAGO_PUBLIC_SCHOOLS\n",
        "%sql PERSIST CHICAGO_CRIME_DATA"
      ],
      "metadata": {
        "id": "sBVLn2x-_a6z",
        "colab": {
          "base_uri": "https://localhost:8080/",
          "height": 312
        },
        "outputId": "ce67ba94-5675-4cea-da5a-0577b53e36ae"
      },
      "execution_count": 8,
      "outputs": [
        {
          "output_type": "stream",
          "name": "stdout",
          "text": [
            " * ibm_db_sa://hvc33796:***@6667d8e9-9d4d-4ccb-ba32-21da3bb5aafc.c1ogj3sd0tgtu0lqde00.databases.appdomain.cloud:30376/bludb\n",
            "(ibm_db_dbi.ProgrammingError) ibm_db_dbi::ProgrammingError: Statement Execute Failed: [IBM][CLI Driver][DB2/LINUXX8664] SQL0204N  \"HVC33796.CENSUS_DATA\" is an undefined name.  SQLSTATE=42704 SQLCODE=-204\n",
            "[SQL: DROP TABLE CENSUS_DATA]\n",
            "(Background on this error at: http://sqlalche.me/e/13/f405)\n",
            " * ibm_db_sa://hvc33796:***@6667d8e9-9d4d-4ccb-ba32-21da3bb5aafc.c1ogj3sd0tgtu0lqde00.databases.appdomain.cloud:30376/bludb\n",
            "(ibm_db_dbi.ProgrammingError) ibm_db_dbi::ProgrammingError: Statement Execute Failed: [IBM][CLI Driver][DB2/LINUXX8664] SQL0204N  \"HVC33796.CHICAGO_PUBLIC_SCHOOLS\" is an undefined name.  SQLSTATE=42704 SQLCODE=-204\n",
            "[SQL: DROP TABLE CHICAGO_PUBLIC_SCHOOLS]\n",
            "(Background on this error at: http://sqlalche.me/e/13/f405)\n",
            " * ibm_db_sa://hvc33796:***@6667d8e9-9d4d-4ccb-ba32-21da3bb5aafc.c1ogj3sd0tgtu0lqde00.databases.appdomain.cloud:30376/bludb\n",
            "(ibm_db_dbi.ProgrammingError) ibm_db_dbi::ProgrammingError: Statement Execute Failed: [IBM][CLI Driver][DB2/LINUXX8664] SQL0204N  \"HVC33796.CHICAGO_CRIME_DATA\" is an undefined name.  SQLSTATE=42704 SQLCODE=-204\n",
            "[SQL: DROP TABLE CHICAGO_CRIME_DATA]\n",
            "(Background on this error at: http://sqlalche.me/e/13/f405)\n",
            " * ibm_db_sa://hvc33796:***@6667d8e9-9d4d-4ccb-ba32-21da3bb5aafc.c1ogj3sd0tgtu0lqde00.databases.appdomain.cloud:30376/bludb\n",
            " * ibm_db_sa://hvc33796:***@6667d8e9-9d4d-4ccb-ba32-21da3bb5aafc.c1ogj3sd0tgtu0lqde00.databases.appdomain.cloud:30376/bludb\n",
            " * ibm_db_sa://hvc33796:***@6667d8e9-9d4d-4ccb-ba32-21da3bb5aafc.c1ogj3sd0tgtu0lqde00.databases.appdomain.cloud:30376/bludb\n"
          ]
        },
        {
          "output_type": "execute_result",
          "data": {
            "text/plain": [
              "'Persisted chicago_crime_data'"
            ],
            "application/vnd.google.colaboratory.intrinsic+json": {
              "type": "string"
            }
          },
          "metadata": {},
          "execution_count": 8
        }
      ]
    },
    {
      "cell_type": "code",
      "source": [
        "%sql SELECT * FROM CENSUS_DATA limit 5;"
      ],
      "metadata": {
        "id": "lcGFBJwMs0AU",
        "colab": {
          "base_uri": "https://localhost:8080/",
          "height": 230
        },
        "outputId": "5f9f36c8-3871-4eaa-8d74-ad46aa3c693d"
      },
      "execution_count": 10,
      "outputs": [
        {
          "output_type": "stream",
          "name": "stdout",
          "text": [
            " * ibm_db_sa://hvc33796:***@6667d8e9-9d4d-4ccb-ba32-21da3bb5aafc.c1ogj3sd0tgtu0lqde00.databases.appdomain.cloud:30376/bludb\n",
            "Done.\n"
          ]
        },
        {
          "output_type": "execute_result",
          "data": {
            "text/plain": [
              "[(0, 1.0, 'Rogers Park', 7.7, 23.6, 8.7, 18.2, 27.5, 23939, 39.0),\n",
              " (1, 2.0, 'West Ridge', 7.8, 17.2, 8.8, 20.8, 38.5, 23040, 46.0),\n",
              " (2, 3.0, 'Uptown', 3.8, 24.0, 8.9, 11.8, 22.2, 35787, 20.0),\n",
              " (3, 4.0, 'Lincoln Square', 3.4, 10.9, 8.2, 13.4, 25.5, 37524, 17.0),\n",
              " (4, 5.0, 'North Center', 0.3, 7.5, 5.2, 4.5, 26.2, 57123, 6.0)]"
            ],
            "text/html": [
              "<table>\n",
              "    <thead>\n",
              "        <tr>\n",
              "            <th>index</th>\n",
              "            <th>community_area_number</th>\n",
              "            <th>community_area_name</th>\n",
              "            <th>PERCENT OF HOUSING CROWDED</th>\n",
              "            <th>PERCENT HOUSEHOLDS BELOW POVERTY</th>\n",
              "            <th>PERCENT AGED 16+ UNEMPLOYED</th>\n",
              "            <th>PERCENT AGED 25+ WITHOUT HIGH SCHOOL DIPLOMA</th>\n",
              "            <th>PERCENT AGED UNDER 18 OR OVER 64</th>\n",
              "            <th>PER_CAPITA_INCOME </th>\n",
              "            <th>hardship_index</th>\n",
              "        </tr>\n",
              "    </thead>\n",
              "    <tbody>\n",
              "        <tr>\n",
              "            <td>0</td>\n",
              "            <td>1.0</td>\n",
              "            <td>Rogers Park</td>\n",
              "            <td>7.7</td>\n",
              "            <td>23.6</td>\n",
              "            <td>8.7</td>\n",
              "            <td>18.2</td>\n",
              "            <td>27.5</td>\n",
              "            <td>23939</td>\n",
              "            <td>39.0</td>\n",
              "        </tr>\n",
              "        <tr>\n",
              "            <td>1</td>\n",
              "            <td>2.0</td>\n",
              "            <td>West Ridge</td>\n",
              "            <td>7.8</td>\n",
              "            <td>17.2</td>\n",
              "            <td>8.8</td>\n",
              "            <td>20.8</td>\n",
              "            <td>38.5</td>\n",
              "            <td>23040</td>\n",
              "            <td>46.0</td>\n",
              "        </tr>\n",
              "        <tr>\n",
              "            <td>2</td>\n",
              "            <td>3.0</td>\n",
              "            <td>Uptown</td>\n",
              "            <td>3.8</td>\n",
              "            <td>24.0</td>\n",
              "            <td>8.9</td>\n",
              "            <td>11.8</td>\n",
              "            <td>22.2</td>\n",
              "            <td>35787</td>\n",
              "            <td>20.0</td>\n",
              "        </tr>\n",
              "        <tr>\n",
              "            <td>3</td>\n",
              "            <td>4.0</td>\n",
              "            <td>Lincoln Square</td>\n",
              "            <td>3.4</td>\n",
              "            <td>10.9</td>\n",
              "            <td>8.2</td>\n",
              "            <td>13.4</td>\n",
              "            <td>25.5</td>\n",
              "            <td>37524</td>\n",
              "            <td>17.0</td>\n",
              "        </tr>\n",
              "        <tr>\n",
              "            <td>4</td>\n",
              "            <td>5.0</td>\n",
              "            <td>North Center</td>\n",
              "            <td>0.3</td>\n",
              "            <td>7.5</td>\n",
              "            <td>5.2</td>\n",
              "            <td>4.5</td>\n",
              "            <td>26.2</td>\n",
              "            <td>57123</td>\n",
              "            <td>6.0</td>\n",
              "        </tr>\n",
              "    </tbody>\n",
              "</table>"
            ]
          },
          "metadata": {},
          "execution_count": 10
        }
      ]
    },
    {
      "cell_type": "code",
      "source": [
        "CHICAGO_CRIME_DATA.head()"
      ],
      "metadata": {
        "colab": {
          "base_uri": "https://localhost:8080/",
          "height": 467
        },
        "id": "mElcsv18Fr_b",
        "outputId": "eb77f3ea-a37c-4591-f522-5562f1fc3cd2"
      },
      "execution_count": 16,
      "outputs": [
        {
          "output_type": "execute_result",
          "data": {
            "text/plain": [
              "         ID CASE_NUMBER                    DATE                     BLOCK  \\\n",
              "0   3512276    HK587712  08/28/2004 05:50:56 PM        047XX S KEDZIE AVE   \n",
              "1   3406613    HK456306  06/26/2004 12:40:00 PM  009XX N CENTRAL PARK AVE   \n",
              "2   8002131    HT233595  04/04/2011 05:45:00 AM        043XX S WABASH AVE   \n",
              "3   7903289    HT133522  12/30/2010 04:30:00 PM      083XX S KINGSTON AVE   \n",
              "4  10402076    HZ138551  02/02/2016 07:30:00 PM           033XX W 66TH ST   \n",
              "\n",
              "  IUCR PRIMARY_TYPE                    DESCRIPTION  \\\n",
              "0  890        THEFT                  FROM BUILDING   \n",
              "1  820        THEFT                 $500 AND UNDER   \n",
              "2  820        THEFT                 $500 AND UNDER   \n",
              "3  840        THEFT  FINANCIAL ID THEFT: OVER $300   \n",
              "4  820        THEFT                 $500 AND UNDER   \n",
              "\n",
              "           LOCATION_DESCRIPTION  ARREST  DOMESTIC  ...  WARD  \\\n",
              "0            SMALL RETAIL STORE   False     False  ...  14.0   \n",
              "1                         OTHER   False     False  ...  27.0   \n",
              "2  NURSING HOME/RETIREMENT HOME   False     False  ...   3.0   \n",
              "3                     RESIDENCE   False     False  ...   7.0   \n",
              "4                         ALLEY   False     False  ...  15.0   \n",
              "\n",
              "   COMMUNITY_AREA_NUMBER  FBICODE  X_COORDINATE Y_COORDINATE  YEAR  \\\n",
              "0                   58.0        6     1155838.0    1873050.0  2004   \n",
              "1                   23.0        6     1152206.0    1906127.0  2004   \n",
              "2                   38.0        6     1177436.0    1876313.0  2011   \n",
              "3                   46.0        6     1194622.0    1850125.0  2010   \n",
              "4                   66.0        6     1155240.0    1860661.0  2016   \n",
              "\n",
              "                UPDATEDON   LATITUDE  LONGITUDE                       LOCATION  \n",
              "0  02/10/2018 03:50:01 PM  41.807440 -87.703956    (41.8074405, -87.703955849)  \n",
              "1  02/28/2018 03:56:25 PM  41.898280 -87.716406  (41.898279962, -87.716405505)  \n",
              "2  02/10/2018 03:50:01 PM  41.815933 -87.624642  (41.815933131, -87.624642127)  \n",
              "3  02/10/2018 03:50:01 PM  41.743665 -87.562463  (41.743665322, -87.562462756)  \n",
              "4  02/10/2018 03:50:01 PM  41.773455 -87.706480  (41.773455295, -87.706480471)  \n",
              "\n",
              "[5 rows x 22 columns]"
            ],
            "text/html": [
              "\n",
              "  <div id=\"df-92462659-2a7f-4c02-b9e7-1351fee79e42\">\n",
              "    <div class=\"colab-df-container\">\n",
              "      <div>\n",
              "<style scoped>\n",
              "    .dataframe tbody tr th:only-of-type {\n",
              "        vertical-align: middle;\n",
              "    }\n",
              "\n",
              "    .dataframe tbody tr th {\n",
              "        vertical-align: top;\n",
              "    }\n",
              "\n",
              "    .dataframe thead th {\n",
              "        text-align: right;\n",
              "    }\n",
              "</style>\n",
              "<table border=\"1\" class=\"dataframe\">\n",
              "  <thead>\n",
              "    <tr style=\"text-align: right;\">\n",
              "      <th></th>\n",
              "      <th>ID</th>\n",
              "      <th>CASE_NUMBER</th>\n",
              "      <th>DATE</th>\n",
              "      <th>BLOCK</th>\n",
              "      <th>IUCR</th>\n",
              "      <th>PRIMARY_TYPE</th>\n",
              "      <th>DESCRIPTION</th>\n",
              "      <th>LOCATION_DESCRIPTION</th>\n",
              "      <th>ARREST</th>\n",
              "      <th>DOMESTIC</th>\n",
              "      <th>...</th>\n",
              "      <th>WARD</th>\n",
              "      <th>COMMUNITY_AREA_NUMBER</th>\n",
              "      <th>FBICODE</th>\n",
              "      <th>X_COORDINATE</th>\n",
              "      <th>Y_COORDINATE</th>\n",
              "      <th>YEAR</th>\n",
              "      <th>UPDATEDON</th>\n",
              "      <th>LATITUDE</th>\n",
              "      <th>LONGITUDE</th>\n",
              "      <th>LOCATION</th>\n",
              "    </tr>\n",
              "  </thead>\n",
              "  <tbody>\n",
              "    <tr>\n",
              "      <th>0</th>\n",
              "      <td>3512276</td>\n",
              "      <td>HK587712</td>\n",
              "      <td>08/28/2004 05:50:56 PM</td>\n",
              "      <td>047XX S KEDZIE AVE</td>\n",
              "      <td>890</td>\n",
              "      <td>THEFT</td>\n",
              "      <td>FROM BUILDING</td>\n",
              "      <td>SMALL RETAIL STORE</td>\n",
              "      <td>False</td>\n",
              "      <td>False</td>\n",
              "      <td>...</td>\n",
              "      <td>14.0</td>\n",
              "      <td>58.0</td>\n",
              "      <td>6</td>\n",
              "      <td>1155838.0</td>\n",
              "      <td>1873050.0</td>\n",
              "      <td>2004</td>\n",
              "      <td>02/10/2018 03:50:01 PM</td>\n",
              "      <td>41.807440</td>\n",
              "      <td>-87.703956</td>\n",
              "      <td>(41.8074405, -87.703955849)</td>\n",
              "    </tr>\n",
              "    <tr>\n",
              "      <th>1</th>\n",
              "      <td>3406613</td>\n",
              "      <td>HK456306</td>\n",
              "      <td>06/26/2004 12:40:00 PM</td>\n",
              "      <td>009XX N CENTRAL PARK AVE</td>\n",
              "      <td>820</td>\n",
              "      <td>THEFT</td>\n",
              "      <td>$500 AND UNDER</td>\n",
              "      <td>OTHER</td>\n",
              "      <td>False</td>\n",
              "      <td>False</td>\n",
              "      <td>...</td>\n",
              "      <td>27.0</td>\n",
              "      <td>23.0</td>\n",
              "      <td>6</td>\n",
              "      <td>1152206.0</td>\n",
              "      <td>1906127.0</td>\n",
              "      <td>2004</td>\n",
              "      <td>02/28/2018 03:56:25 PM</td>\n",
              "      <td>41.898280</td>\n",
              "      <td>-87.716406</td>\n",
              "      <td>(41.898279962, -87.716405505)</td>\n",
              "    </tr>\n",
              "    <tr>\n",
              "      <th>2</th>\n",
              "      <td>8002131</td>\n",
              "      <td>HT233595</td>\n",
              "      <td>04/04/2011 05:45:00 AM</td>\n",
              "      <td>043XX S WABASH AVE</td>\n",
              "      <td>820</td>\n",
              "      <td>THEFT</td>\n",
              "      <td>$500 AND UNDER</td>\n",
              "      <td>NURSING HOME/RETIREMENT HOME</td>\n",
              "      <td>False</td>\n",
              "      <td>False</td>\n",
              "      <td>...</td>\n",
              "      <td>3.0</td>\n",
              "      <td>38.0</td>\n",
              "      <td>6</td>\n",
              "      <td>1177436.0</td>\n",
              "      <td>1876313.0</td>\n",
              "      <td>2011</td>\n",
              "      <td>02/10/2018 03:50:01 PM</td>\n",
              "      <td>41.815933</td>\n",
              "      <td>-87.624642</td>\n",
              "      <td>(41.815933131, -87.624642127)</td>\n",
              "    </tr>\n",
              "    <tr>\n",
              "      <th>3</th>\n",
              "      <td>7903289</td>\n",
              "      <td>HT133522</td>\n",
              "      <td>12/30/2010 04:30:00 PM</td>\n",
              "      <td>083XX S KINGSTON AVE</td>\n",
              "      <td>840</td>\n",
              "      <td>THEFT</td>\n",
              "      <td>FINANCIAL ID THEFT: OVER $300</td>\n",
              "      <td>RESIDENCE</td>\n",
              "      <td>False</td>\n",
              "      <td>False</td>\n",
              "      <td>...</td>\n",
              "      <td>7.0</td>\n",
              "      <td>46.0</td>\n",
              "      <td>6</td>\n",
              "      <td>1194622.0</td>\n",
              "      <td>1850125.0</td>\n",
              "      <td>2010</td>\n",
              "      <td>02/10/2018 03:50:01 PM</td>\n",
              "      <td>41.743665</td>\n",
              "      <td>-87.562463</td>\n",
              "      <td>(41.743665322, -87.562462756)</td>\n",
              "    </tr>\n",
              "    <tr>\n",
              "      <th>4</th>\n",
              "      <td>10402076</td>\n",
              "      <td>HZ138551</td>\n",
              "      <td>02/02/2016 07:30:00 PM</td>\n",
              "      <td>033XX W 66TH ST</td>\n",
              "      <td>820</td>\n",
              "      <td>THEFT</td>\n",
              "      <td>$500 AND UNDER</td>\n",
              "      <td>ALLEY</td>\n",
              "      <td>False</td>\n",
              "      <td>False</td>\n",
              "      <td>...</td>\n",
              "      <td>15.0</td>\n",
              "      <td>66.0</td>\n",
              "      <td>6</td>\n",
              "      <td>1155240.0</td>\n",
              "      <td>1860661.0</td>\n",
              "      <td>2016</td>\n",
              "      <td>02/10/2018 03:50:01 PM</td>\n",
              "      <td>41.773455</td>\n",
              "      <td>-87.706480</td>\n",
              "      <td>(41.773455295, -87.706480471)</td>\n",
              "    </tr>\n",
              "  </tbody>\n",
              "</table>\n",
              "<p>5 rows × 22 columns</p>\n",
              "</div>\n",
              "      <button class=\"colab-df-convert\" onclick=\"convertToInteractive('df-92462659-2a7f-4c02-b9e7-1351fee79e42')\"\n",
              "              title=\"Convert this dataframe to an interactive table.\"\n",
              "              style=\"display:none;\">\n",
              "        \n",
              "  <svg xmlns=\"http://www.w3.org/2000/svg\" height=\"24px\"viewBox=\"0 0 24 24\"\n",
              "       width=\"24px\">\n",
              "    <path d=\"M0 0h24v24H0V0z\" fill=\"none\"/>\n",
              "    <path d=\"M18.56 5.44l.94 2.06.94-2.06 2.06-.94-2.06-.94-.94-2.06-.94 2.06-2.06.94zm-11 1L8.5 8.5l.94-2.06 2.06-.94-2.06-.94L8.5 2.5l-.94 2.06-2.06.94zm10 10l.94 2.06.94-2.06 2.06-.94-2.06-.94-.94-2.06-.94 2.06-2.06.94z\"/><path d=\"M17.41 7.96l-1.37-1.37c-.4-.4-.92-.59-1.43-.59-.52 0-1.04.2-1.43.59L10.3 9.45l-7.72 7.72c-.78.78-.78 2.05 0 2.83L4 21.41c.39.39.9.59 1.41.59.51 0 1.02-.2 1.41-.59l7.78-7.78 2.81-2.81c.8-.78.8-2.07 0-2.86zM5.41 20L4 18.59l7.72-7.72 1.47 1.35L5.41 20z\"/>\n",
              "  </svg>\n",
              "      </button>\n",
              "      \n",
              "  <style>\n",
              "    .colab-df-container {\n",
              "      display:flex;\n",
              "      flex-wrap:wrap;\n",
              "      gap: 12px;\n",
              "    }\n",
              "\n",
              "    .colab-df-convert {\n",
              "      background-color: #E8F0FE;\n",
              "      border: none;\n",
              "      border-radius: 50%;\n",
              "      cursor: pointer;\n",
              "      display: none;\n",
              "      fill: #1967D2;\n",
              "      height: 32px;\n",
              "      padding: 0 0 0 0;\n",
              "      width: 32px;\n",
              "    }\n",
              "\n",
              "    .colab-df-convert:hover {\n",
              "      background-color: #E2EBFA;\n",
              "      box-shadow: 0px 1px 2px rgba(60, 64, 67, 0.3), 0px 1px 3px 1px rgba(60, 64, 67, 0.15);\n",
              "      fill: #174EA6;\n",
              "    }\n",
              "\n",
              "    [theme=dark] .colab-df-convert {\n",
              "      background-color: #3B4455;\n",
              "      fill: #D2E3FC;\n",
              "    }\n",
              "\n",
              "    [theme=dark] .colab-df-convert:hover {\n",
              "      background-color: #434B5C;\n",
              "      box-shadow: 0px 1px 3px 1px rgba(0, 0, 0, 0.15);\n",
              "      filter: drop-shadow(0px 1px 2px rgba(0, 0, 0, 0.3));\n",
              "      fill: #FFFFFF;\n",
              "    }\n",
              "  </style>\n",
              "\n",
              "      <script>\n",
              "        const buttonEl =\n",
              "          document.querySelector('#df-92462659-2a7f-4c02-b9e7-1351fee79e42 button.colab-df-convert');\n",
              "        buttonEl.style.display =\n",
              "          google.colab.kernel.accessAllowed ? 'block' : 'none';\n",
              "\n",
              "        async function convertToInteractive(key) {\n",
              "          const element = document.querySelector('#df-92462659-2a7f-4c02-b9e7-1351fee79e42');\n",
              "          const dataTable =\n",
              "            await google.colab.kernel.invokeFunction('convertToInteractive',\n",
              "                                                     [key], {});\n",
              "          if (!dataTable) return;\n",
              "\n",
              "          const docLinkHtml = 'Like what you see? Visit the ' +\n",
              "            '<a target=\"_blank\" href=https://colab.research.google.com/notebooks/data_table.ipynb>data table notebook</a>'\n",
              "            + ' to learn more about interactive tables.';\n",
              "          element.innerHTML = '';\n",
              "          dataTable['output_type'] = 'display_data';\n",
              "          await google.colab.output.renderOutput(dataTable, element);\n",
              "          const docLink = document.createElement('div');\n",
              "          docLink.innerHTML = docLinkHtml;\n",
              "          element.appendChild(docLink);\n",
              "        }\n",
              "      </script>\n",
              "    </div>\n",
              "  </div>\n",
              "  "
            ]
          },
          "metadata": {},
          "execution_count": 16
        }
      ]
    },
    {
      "cell_type": "code",
      "source": [
        "%sql SELECT count(*) FROM CHICAGO_CRIME_DATA where ARREST = True"
      ],
      "metadata": {
        "colab": {
          "base_uri": "https://localhost:8080/",
          "height": 95
        },
        "id": "NlE4lR28EcIF",
        "outputId": "fd2396be-f985-4612-bd5b-60f90a8dac33"
      },
      "execution_count": 15,
      "outputs": [
        {
          "output_type": "stream",
          "name": "stdout",
          "text": [
            " * ibm_db_sa://hvc33796:***@6667d8e9-9d4d-4ccb-ba32-21da3bb5aafc.c1ogj3sd0tgtu0lqde00.databases.appdomain.cloud:30376/bludb\n",
            "Done.\n"
          ]
        },
        {
          "output_type": "execute_result",
          "data": {
            "text/plain": [
              "[(163,)]"
            ],
            "text/html": [
              "<table>\n",
              "    <thead>\n",
              "        <tr>\n",
              "            <th>1</th>\n",
              "        </tr>\n",
              "    </thead>\n",
              "    <tbody>\n",
              "        <tr>\n",
              "            <td>163</td>\n",
              "        </tr>\n",
              "    </tbody>\n",
              "</table>"
            ]
          },
          "metadata": {},
          "execution_count": 15
        }
      ]
    },
    {
      "cell_type": "code",
      "source": [
        "%sql SELECT * FROM CHICAGO_CRIME_DATA WHERE LOCATION_DESCRIPTION = 'GAS STATION'"
      ],
      "metadata": {
        "colab": {
          "base_uri": "https://localhost:8080/",
          "height": 441
        },
        "id": "xLIj1T3REtKH",
        "outputId": "883cb02e-31d3-457f-ae65-1960379d9efa"
      },
      "execution_count": 20,
      "outputs": [
        {
          "output_type": "stream",
          "name": "stdout",
          "text": [
            " * ibm_db_sa://hvc33796:***@6667d8e9-9d4d-4ccb-ba32-21da3bb5aafc.c1ogj3sd0tgtu0lqde00.databases.appdomain.cloud:30376/bludb\n",
            "Done.\n"
          ]
        },
        {
          "output_type": "execute_result",
          "data": {
            "text/plain": [
              "[(69, 7505841, 'HS308747', '05/15/2010 09:15:00 AM', '004XX E 95TH ST', '890', 'THEFT', 'FROM BUILDING', 'GAS STATION', 0, 0, 633, 6, 9.0, 49.0, '6', 1180667.0, 1842071.0, 2010, '02/10/2018 03:50:01 PM', 41.72189586, -87.61384102, '(41.721895856, -87.613841024)'),\n",
              " (71, 4153041, 'HL005270', '07/12/2005 11:00:00 PM', '008XX N CICERO AVE', '820', 'THEFT', '$500 AND UNDER', 'GAS STATION', 0, 0, 1111, 11, 37.0, 25.0, '6', 1144207.0, 1904963.0, 2005, '02/10/2018 03:50:01 PM', 41.8952399, -87.74581479, '(41.895239896, -87.745814792)'),\n",
              " (288, 5844831, 'HN647052', '10/14/2007 04:31:26 AM', '062XX S DREXEL AVE', '1811', 'NARCOTICS', 'POSS: CANNABIS 30GMS OR LESS', 'GAS STATION', 1, 0, 313, 3, 20.0, 42.0, '18', 1183081.0, 1863726.0, 2007, '02/28/2018 03:56:25 PM', 41.78126375, -87.60432695, '(41.781263748, -87.60432695)'),\n",
              " (459, 3046354, 'HJ753917', '11/12/2003 01:40:00 AM', '052XX W ADDISON ST', '031A', 'ROBBERY', 'ARMED: HANDGUN', 'GAS STATION', 0, 0, 1634, 16, 38.0, 15.0, '3', 1140892.0, 1923436.0, 2003, '02/28/2018 03:56:25 PM', 41.94599344, -87.75753456, '(41.945993442, -87.757534561)'),\n",
              " (463, 8875058, 'HV548880', '11/05/2012 11:15:00 AM', '067XX S STATE ST', '330', 'ROBBERY', 'AGGRAVATED', 'GAS STATION', 0, 0, 322, 3, 6.0, 69.0, '3', 1177438.0, 1860407.0, 2012, '02/10/2018 03:50:01 PM', 41.77228548, -87.62511546, '(41.772285481, -87.625115462)'),\n",
              " (474, 5827212, 'HN637742', '10/09/2007 12:20:00 PM', '025XX N PULASKI RD', '1330', 'CRIMINAL TRESPASS', 'TO LAND', 'GAS STATION', 1, 0, 2524, 25, 31.0, 22.0, '26', 1149288.0, 1916658.0, 2007, '02/28/2018 03:56:25 PM', 41.92723512, -87.72684967, '(41.927235118, -87.726849666)')]"
            ],
            "text/html": [
              "<table>\n",
              "    <thead>\n",
              "        <tr>\n",
              "            <th>index</th>\n",
              "            <th>id</th>\n",
              "            <th>case_number</th>\n",
              "            <th>DATE</th>\n",
              "            <th>block</th>\n",
              "            <th>iucr</th>\n",
              "            <th>primary_type</th>\n",
              "            <th>description</th>\n",
              "            <th>location_description</th>\n",
              "            <th>arrest</th>\n",
              "            <th>domestic</th>\n",
              "            <th>beat</th>\n",
              "            <th>district</th>\n",
              "            <th>ward</th>\n",
              "            <th>community_area_number</th>\n",
              "            <th>fbicode</th>\n",
              "            <th>x_coordinate</th>\n",
              "            <th>y_coordinate</th>\n",
              "            <th>YEAR</th>\n",
              "            <th>updatedon</th>\n",
              "            <th>latitude</th>\n",
              "            <th>longitude</th>\n",
              "            <th>location</th>\n",
              "        </tr>\n",
              "    </thead>\n",
              "    <tbody>\n",
              "        <tr>\n",
              "            <td>69</td>\n",
              "            <td>7505841</td>\n",
              "            <td>HS308747</td>\n",
              "            <td>05/15/2010 09:15:00 AM</td>\n",
              "            <td>004XX E 95TH ST</td>\n",
              "            <td>890</td>\n",
              "            <td>THEFT</td>\n",
              "            <td>FROM BUILDING</td>\n",
              "            <td>GAS STATION</td>\n",
              "            <td>0</td>\n",
              "            <td>0</td>\n",
              "            <td>633</td>\n",
              "            <td>6</td>\n",
              "            <td>9.0</td>\n",
              "            <td>49.0</td>\n",
              "            <td>6</td>\n",
              "            <td>1180667.0</td>\n",
              "            <td>1842071.0</td>\n",
              "            <td>2010</td>\n",
              "            <td>02/10/2018 03:50:01 PM</td>\n",
              "            <td>41.72189586</td>\n",
              "            <td>-87.61384102</td>\n",
              "            <td>(41.721895856, -87.613841024)</td>\n",
              "        </tr>\n",
              "        <tr>\n",
              "            <td>71</td>\n",
              "            <td>4153041</td>\n",
              "            <td>HL005270</td>\n",
              "            <td>07/12/2005 11:00:00 PM</td>\n",
              "            <td>008XX N CICERO AVE</td>\n",
              "            <td>820</td>\n",
              "            <td>THEFT</td>\n",
              "            <td>$500 AND UNDER</td>\n",
              "            <td>GAS STATION</td>\n",
              "            <td>0</td>\n",
              "            <td>0</td>\n",
              "            <td>1111</td>\n",
              "            <td>11</td>\n",
              "            <td>37.0</td>\n",
              "            <td>25.0</td>\n",
              "            <td>6</td>\n",
              "            <td>1144207.0</td>\n",
              "            <td>1904963.0</td>\n",
              "            <td>2005</td>\n",
              "            <td>02/10/2018 03:50:01 PM</td>\n",
              "            <td>41.8952399</td>\n",
              "            <td>-87.74581479</td>\n",
              "            <td>(41.895239896, -87.745814792)</td>\n",
              "        </tr>\n",
              "        <tr>\n",
              "            <td>288</td>\n",
              "            <td>5844831</td>\n",
              "            <td>HN647052</td>\n",
              "            <td>10/14/2007 04:31:26 AM</td>\n",
              "            <td>062XX S DREXEL AVE</td>\n",
              "            <td>1811</td>\n",
              "            <td>NARCOTICS</td>\n",
              "            <td>POSS: CANNABIS 30GMS OR LESS</td>\n",
              "            <td>GAS STATION</td>\n",
              "            <td>1</td>\n",
              "            <td>0</td>\n",
              "            <td>313</td>\n",
              "            <td>3</td>\n",
              "            <td>20.0</td>\n",
              "            <td>42.0</td>\n",
              "            <td>18</td>\n",
              "            <td>1183081.0</td>\n",
              "            <td>1863726.0</td>\n",
              "            <td>2007</td>\n",
              "            <td>02/28/2018 03:56:25 PM</td>\n",
              "            <td>41.78126375</td>\n",
              "            <td>-87.60432695</td>\n",
              "            <td>(41.781263748, -87.60432695)</td>\n",
              "        </tr>\n",
              "        <tr>\n",
              "            <td>459</td>\n",
              "            <td>3046354</td>\n",
              "            <td>HJ753917</td>\n",
              "            <td>11/12/2003 01:40:00 AM</td>\n",
              "            <td>052XX W ADDISON ST</td>\n",
              "            <td>031A</td>\n",
              "            <td>ROBBERY</td>\n",
              "            <td>ARMED: HANDGUN</td>\n",
              "            <td>GAS STATION</td>\n",
              "            <td>0</td>\n",
              "            <td>0</td>\n",
              "            <td>1634</td>\n",
              "            <td>16</td>\n",
              "            <td>38.0</td>\n",
              "            <td>15.0</td>\n",
              "            <td>3</td>\n",
              "            <td>1140892.0</td>\n",
              "            <td>1923436.0</td>\n",
              "            <td>2003</td>\n",
              "            <td>02/28/2018 03:56:25 PM</td>\n",
              "            <td>41.94599344</td>\n",
              "            <td>-87.75753456</td>\n",
              "            <td>(41.945993442, -87.757534561)</td>\n",
              "        </tr>\n",
              "        <tr>\n",
              "            <td>463</td>\n",
              "            <td>8875058</td>\n",
              "            <td>HV548880</td>\n",
              "            <td>11/05/2012 11:15:00 AM</td>\n",
              "            <td>067XX S STATE ST</td>\n",
              "            <td>330</td>\n",
              "            <td>ROBBERY</td>\n",
              "            <td>AGGRAVATED</td>\n",
              "            <td>GAS STATION</td>\n",
              "            <td>0</td>\n",
              "            <td>0</td>\n",
              "            <td>322</td>\n",
              "            <td>3</td>\n",
              "            <td>6.0</td>\n",
              "            <td>69.0</td>\n",
              "            <td>3</td>\n",
              "            <td>1177438.0</td>\n",
              "            <td>1860407.0</td>\n",
              "            <td>2012</td>\n",
              "            <td>02/10/2018 03:50:01 PM</td>\n",
              "            <td>41.77228548</td>\n",
              "            <td>-87.62511546</td>\n",
              "            <td>(41.772285481, -87.625115462)</td>\n",
              "        </tr>\n",
              "        <tr>\n",
              "            <td>474</td>\n",
              "            <td>5827212</td>\n",
              "            <td>HN637742</td>\n",
              "            <td>10/09/2007 12:20:00 PM</td>\n",
              "            <td>025XX N PULASKI RD</td>\n",
              "            <td>1330</td>\n",
              "            <td>CRIMINAL TRESPASS</td>\n",
              "            <td>TO LAND</td>\n",
              "            <td>GAS STATION</td>\n",
              "            <td>1</td>\n",
              "            <td>0</td>\n",
              "            <td>2524</td>\n",
              "            <td>25</td>\n",
              "            <td>31.0</td>\n",
              "            <td>22.0</td>\n",
              "            <td>26</td>\n",
              "            <td>1149288.0</td>\n",
              "            <td>1916658.0</td>\n",
              "            <td>2007</td>\n",
              "            <td>02/28/2018 03:56:25 PM</td>\n",
              "            <td>41.92723512</td>\n",
              "            <td>-87.72684967</td>\n",
              "            <td>(41.927235118, -87.726849666)</td>\n",
              "        </tr>\n",
              "    </tbody>\n",
              "</table>"
            ]
          },
          "metadata": {},
          "execution_count": 20
        }
      ]
    },
    {
      "cell_type": "code",
      "source": [
        "CHICAGO_CRIME_DATA[ CHICAGO_CRIME_DATA['LOCATION_DESCRIPTION'] == 'GAS STATION'].groupby(['PRIMARY_TYPE']).count()"
      ],
      "metadata": {
        "colab": {
          "base_uri": "https://localhost:8080/",
          "height": 314
        },
        "id": "VzgTEVaFF7uR",
        "outputId": "953f9c24-e6a7-4ba0-abd3-26d2b5efdefe"
      },
      "execution_count": 23,
      "outputs": [
        {
          "output_type": "execute_result",
          "data": {
            "text/plain": [
              "                   ID  CASE_NUMBER  DATE  BLOCK  IUCR  DESCRIPTION  \\\n",
              "PRIMARY_TYPE                                                         \n",
              "CRIMINAL TRESPASS   1            1     1      1     1            1   \n",
              "NARCOTICS           1            1     1      1     1            1   \n",
              "ROBBERY             2            2     2      2     2            2   \n",
              "THEFT               2            2     2      2     2            2   \n",
              "\n",
              "                   LOCATION_DESCRIPTION  ARREST  DOMESTIC  BEAT  ...  WARD  \\\n",
              "PRIMARY_TYPE                                                     ...         \n",
              "CRIMINAL TRESPASS                     1       1         1     1  ...     1   \n",
              "NARCOTICS                             1       1         1     1  ...     1   \n",
              "ROBBERY                               2       2         2     2  ...     2   \n",
              "THEFT                                 2       2         2     2  ...     2   \n",
              "\n",
              "                   COMMUNITY_AREA_NUMBER  FBICODE  X_COORDINATE  Y_COORDINATE  \\\n",
              "PRIMARY_TYPE                                                                    \n",
              "CRIMINAL TRESPASS                      1        1             1             1   \n",
              "NARCOTICS                              1        1             1             1   \n",
              "ROBBERY                                2        2             2             2   \n",
              "THEFT                                  2        2             2             2   \n",
              "\n",
              "                   YEAR  UPDATEDON  LATITUDE  LONGITUDE  LOCATION  \n",
              "PRIMARY_TYPE                                                       \n",
              "CRIMINAL TRESPASS     1          1         1          1         1  \n",
              "NARCOTICS             1          1         1          1         1  \n",
              "ROBBERY               2          2         2          2         2  \n",
              "THEFT                 2          2         2          2         2  \n",
              "\n",
              "[4 rows x 21 columns]"
            ],
            "text/html": [
              "\n",
              "  <div id=\"df-aaf2e517-3f01-4940-9a6e-ca9885181ca0\">\n",
              "    <div class=\"colab-df-container\">\n",
              "      <div>\n",
              "<style scoped>\n",
              "    .dataframe tbody tr th:only-of-type {\n",
              "        vertical-align: middle;\n",
              "    }\n",
              "\n",
              "    .dataframe tbody tr th {\n",
              "        vertical-align: top;\n",
              "    }\n",
              "\n",
              "    .dataframe thead th {\n",
              "        text-align: right;\n",
              "    }\n",
              "</style>\n",
              "<table border=\"1\" class=\"dataframe\">\n",
              "  <thead>\n",
              "    <tr style=\"text-align: right;\">\n",
              "      <th></th>\n",
              "      <th>ID</th>\n",
              "      <th>CASE_NUMBER</th>\n",
              "      <th>DATE</th>\n",
              "      <th>BLOCK</th>\n",
              "      <th>IUCR</th>\n",
              "      <th>DESCRIPTION</th>\n",
              "      <th>LOCATION_DESCRIPTION</th>\n",
              "      <th>ARREST</th>\n",
              "      <th>DOMESTIC</th>\n",
              "      <th>BEAT</th>\n",
              "      <th>...</th>\n",
              "      <th>WARD</th>\n",
              "      <th>COMMUNITY_AREA_NUMBER</th>\n",
              "      <th>FBICODE</th>\n",
              "      <th>X_COORDINATE</th>\n",
              "      <th>Y_COORDINATE</th>\n",
              "      <th>YEAR</th>\n",
              "      <th>UPDATEDON</th>\n",
              "      <th>LATITUDE</th>\n",
              "      <th>LONGITUDE</th>\n",
              "      <th>LOCATION</th>\n",
              "    </tr>\n",
              "    <tr>\n",
              "      <th>PRIMARY_TYPE</th>\n",
              "      <th></th>\n",
              "      <th></th>\n",
              "      <th></th>\n",
              "      <th></th>\n",
              "      <th></th>\n",
              "      <th></th>\n",
              "      <th></th>\n",
              "      <th></th>\n",
              "      <th></th>\n",
              "      <th></th>\n",
              "      <th></th>\n",
              "      <th></th>\n",
              "      <th></th>\n",
              "      <th></th>\n",
              "      <th></th>\n",
              "      <th></th>\n",
              "      <th></th>\n",
              "      <th></th>\n",
              "      <th></th>\n",
              "      <th></th>\n",
              "      <th></th>\n",
              "    </tr>\n",
              "  </thead>\n",
              "  <tbody>\n",
              "    <tr>\n",
              "      <th>CRIMINAL TRESPASS</th>\n",
              "      <td>1</td>\n",
              "      <td>1</td>\n",
              "      <td>1</td>\n",
              "      <td>1</td>\n",
              "      <td>1</td>\n",
              "      <td>1</td>\n",
              "      <td>1</td>\n",
              "      <td>1</td>\n",
              "      <td>1</td>\n",
              "      <td>1</td>\n",
              "      <td>...</td>\n",
              "      <td>1</td>\n",
              "      <td>1</td>\n",
              "      <td>1</td>\n",
              "      <td>1</td>\n",
              "      <td>1</td>\n",
              "      <td>1</td>\n",
              "      <td>1</td>\n",
              "      <td>1</td>\n",
              "      <td>1</td>\n",
              "      <td>1</td>\n",
              "    </tr>\n",
              "    <tr>\n",
              "      <th>NARCOTICS</th>\n",
              "      <td>1</td>\n",
              "      <td>1</td>\n",
              "      <td>1</td>\n",
              "      <td>1</td>\n",
              "      <td>1</td>\n",
              "      <td>1</td>\n",
              "      <td>1</td>\n",
              "      <td>1</td>\n",
              "      <td>1</td>\n",
              "      <td>1</td>\n",
              "      <td>...</td>\n",
              "      <td>1</td>\n",
              "      <td>1</td>\n",
              "      <td>1</td>\n",
              "      <td>1</td>\n",
              "      <td>1</td>\n",
              "      <td>1</td>\n",
              "      <td>1</td>\n",
              "      <td>1</td>\n",
              "      <td>1</td>\n",
              "      <td>1</td>\n",
              "    </tr>\n",
              "    <tr>\n",
              "      <th>ROBBERY</th>\n",
              "      <td>2</td>\n",
              "      <td>2</td>\n",
              "      <td>2</td>\n",
              "      <td>2</td>\n",
              "      <td>2</td>\n",
              "      <td>2</td>\n",
              "      <td>2</td>\n",
              "      <td>2</td>\n",
              "      <td>2</td>\n",
              "      <td>2</td>\n",
              "      <td>...</td>\n",
              "      <td>2</td>\n",
              "      <td>2</td>\n",
              "      <td>2</td>\n",
              "      <td>2</td>\n",
              "      <td>2</td>\n",
              "      <td>2</td>\n",
              "      <td>2</td>\n",
              "      <td>2</td>\n",
              "      <td>2</td>\n",
              "      <td>2</td>\n",
              "    </tr>\n",
              "    <tr>\n",
              "      <th>THEFT</th>\n",
              "      <td>2</td>\n",
              "      <td>2</td>\n",
              "      <td>2</td>\n",
              "      <td>2</td>\n",
              "      <td>2</td>\n",
              "      <td>2</td>\n",
              "      <td>2</td>\n",
              "      <td>2</td>\n",
              "      <td>2</td>\n",
              "      <td>2</td>\n",
              "      <td>...</td>\n",
              "      <td>2</td>\n",
              "      <td>2</td>\n",
              "      <td>2</td>\n",
              "      <td>2</td>\n",
              "      <td>2</td>\n",
              "      <td>2</td>\n",
              "      <td>2</td>\n",
              "      <td>2</td>\n",
              "      <td>2</td>\n",
              "      <td>2</td>\n",
              "    </tr>\n",
              "  </tbody>\n",
              "</table>\n",
              "<p>4 rows × 21 columns</p>\n",
              "</div>\n",
              "      <button class=\"colab-df-convert\" onclick=\"convertToInteractive('df-aaf2e517-3f01-4940-9a6e-ca9885181ca0')\"\n",
              "              title=\"Convert this dataframe to an interactive table.\"\n",
              "              style=\"display:none;\">\n",
              "        \n",
              "  <svg xmlns=\"http://www.w3.org/2000/svg\" height=\"24px\"viewBox=\"0 0 24 24\"\n",
              "       width=\"24px\">\n",
              "    <path d=\"M0 0h24v24H0V0z\" fill=\"none\"/>\n",
              "    <path d=\"M18.56 5.44l.94 2.06.94-2.06 2.06-.94-2.06-.94-.94-2.06-.94 2.06-2.06.94zm-11 1L8.5 8.5l.94-2.06 2.06-.94-2.06-.94L8.5 2.5l-.94 2.06-2.06.94zm10 10l.94 2.06.94-2.06 2.06-.94-2.06-.94-.94-2.06-.94 2.06-2.06.94z\"/><path d=\"M17.41 7.96l-1.37-1.37c-.4-.4-.92-.59-1.43-.59-.52 0-1.04.2-1.43.59L10.3 9.45l-7.72 7.72c-.78.78-.78 2.05 0 2.83L4 21.41c.39.39.9.59 1.41.59.51 0 1.02-.2 1.41-.59l7.78-7.78 2.81-2.81c.8-.78.8-2.07 0-2.86zM5.41 20L4 18.59l7.72-7.72 1.47 1.35L5.41 20z\"/>\n",
              "  </svg>\n",
              "      </button>\n",
              "      \n",
              "  <style>\n",
              "    .colab-df-container {\n",
              "      display:flex;\n",
              "      flex-wrap:wrap;\n",
              "      gap: 12px;\n",
              "    }\n",
              "\n",
              "    .colab-df-convert {\n",
              "      background-color: #E8F0FE;\n",
              "      border: none;\n",
              "      border-radius: 50%;\n",
              "      cursor: pointer;\n",
              "      display: none;\n",
              "      fill: #1967D2;\n",
              "      height: 32px;\n",
              "      padding: 0 0 0 0;\n",
              "      width: 32px;\n",
              "    }\n",
              "\n",
              "    .colab-df-convert:hover {\n",
              "      background-color: #E2EBFA;\n",
              "      box-shadow: 0px 1px 2px rgba(60, 64, 67, 0.3), 0px 1px 3px 1px rgba(60, 64, 67, 0.15);\n",
              "      fill: #174EA6;\n",
              "    }\n",
              "\n",
              "    [theme=dark] .colab-df-convert {\n",
              "      background-color: #3B4455;\n",
              "      fill: #D2E3FC;\n",
              "    }\n",
              "\n",
              "    [theme=dark] .colab-df-convert:hover {\n",
              "      background-color: #434B5C;\n",
              "      box-shadow: 0px 1px 3px 1px rgba(0, 0, 0, 0.15);\n",
              "      filter: drop-shadow(0px 1px 2px rgba(0, 0, 0, 0.3));\n",
              "      fill: #FFFFFF;\n",
              "    }\n",
              "  </style>\n",
              "\n",
              "      <script>\n",
              "        const buttonEl =\n",
              "          document.querySelector('#df-aaf2e517-3f01-4940-9a6e-ca9885181ca0 button.colab-df-convert');\n",
              "        buttonEl.style.display =\n",
              "          google.colab.kernel.accessAllowed ? 'block' : 'none';\n",
              "\n",
              "        async function convertToInteractive(key) {\n",
              "          const element = document.querySelector('#df-aaf2e517-3f01-4940-9a6e-ca9885181ca0');\n",
              "          const dataTable =\n",
              "            await google.colab.kernel.invokeFunction('convertToInteractive',\n",
              "                                                     [key], {});\n",
              "          if (!dataTable) return;\n",
              "\n",
              "          const docLinkHtml = 'Like what you see? Visit the ' +\n",
              "            '<a target=\"_blank\" href=https://colab.research.google.com/notebooks/data_table.ipynb>data table notebook</a>'\n",
              "            + ' to learn more about interactive tables.';\n",
              "          element.innerHTML = '';\n",
              "          dataTable['output_type'] = 'display_data';\n",
              "          await google.colab.output.renderOutput(dataTable, element);\n",
              "          const docLink = document.createElement('div');\n",
              "          docLink.innerHTML = docLinkHtml;\n",
              "          element.appendChild(docLink);\n",
              "        }\n",
              "      </script>\n",
              "    </div>\n",
              "  </div>\n",
              "  "
            ]
          },
          "metadata": {},
          "execution_count": 23
        }
      ]
    },
    {
      "cell_type": "code",
      "source": [
        "%sql select community_area_name from chicago_public_schools where community_area_name like 'B%'"
      ],
      "metadata": {
        "colab": {
          "base_uri": "https://localhost:8080/",
          "height": 704
        },
        "id": "mTH6JB0-GWFh",
        "outputId": "1a13f68d-fca2-49d1-c92b-a283a3aee5cc"
      },
      "execution_count": 26,
      "outputs": [
        {
          "output_type": "stream",
          "name": "stdout",
          "text": [
            " * ibm_db_sa://hvc33796:***@6667d8e9-9d4d-4ccb-ba32-21da3bb5aafc.c1ogj3sd0tgtu0lqde00.databases.appdomain.cloud:30376/bludb\n",
            "Done.\n"
          ]
        },
        {
          "output_type": "execute_result",
          "data": {
            "text/plain": [
              "[('BEVERLY',),\n",
              " ('BELMONT CRAGIN',),\n",
              " ('BRIGHTON PARK',),\n",
              " ('BRIGHTON PARK',),\n",
              " ('BELMONT CRAGIN',),\n",
              " ('BRIDGEPORT',),\n",
              " ('BELMONT CRAGIN',),\n",
              " ('BRIGHTON PARK',),\n",
              " ('BELMONT CRAGIN',),\n",
              " ('BEVERLY',),\n",
              " ('BRIGHTON PARK',),\n",
              " ('BELMONT CRAGIN',),\n",
              " ('BRIDGEPORT',),\n",
              " ('BELMONT CRAGIN',),\n",
              " ('BURNSIDE',),\n",
              " ('BELMONT CRAGIN',),\n",
              " ('BRIGHTON PARK',),\n",
              " ('BRIGHTON PARK',),\n",
              " ('BEVERLY',),\n",
              " ('BEVERLY',),\n",
              " ('BELMONT CRAGIN',),\n",
              " ('BELMONT CRAGIN',),\n",
              " ('BRIDGEPORT',),\n",
              " ('BELMONT CRAGIN',),\n",
              " ('BELMONT CRAGIN',),\n",
              " ('BRIGHTON PARK',),\n",
              " ('BELMONT CRAGIN',),\n",
              " ('BRIDGEPORT',),\n",
              " ('BRIDGEPORT',),\n",
              " ('BRIGHTON PARK',)]"
            ],
            "text/html": [
              "<table>\n",
              "    <thead>\n",
              "        <tr>\n",
              "            <th>community_area_name</th>\n",
              "        </tr>\n",
              "    </thead>\n",
              "    <tbody>\n",
              "        <tr>\n",
              "            <td>BEVERLY</td>\n",
              "        </tr>\n",
              "        <tr>\n",
              "            <td>BELMONT CRAGIN</td>\n",
              "        </tr>\n",
              "        <tr>\n",
              "            <td>BRIGHTON PARK</td>\n",
              "        </tr>\n",
              "        <tr>\n",
              "            <td>BRIGHTON PARK</td>\n",
              "        </tr>\n",
              "        <tr>\n",
              "            <td>BELMONT CRAGIN</td>\n",
              "        </tr>\n",
              "        <tr>\n",
              "            <td>BRIDGEPORT</td>\n",
              "        </tr>\n",
              "        <tr>\n",
              "            <td>BELMONT CRAGIN</td>\n",
              "        </tr>\n",
              "        <tr>\n",
              "            <td>BRIGHTON PARK</td>\n",
              "        </tr>\n",
              "        <tr>\n",
              "            <td>BELMONT CRAGIN</td>\n",
              "        </tr>\n",
              "        <tr>\n",
              "            <td>BEVERLY</td>\n",
              "        </tr>\n",
              "        <tr>\n",
              "            <td>BRIGHTON PARK</td>\n",
              "        </tr>\n",
              "        <tr>\n",
              "            <td>BELMONT CRAGIN</td>\n",
              "        </tr>\n",
              "        <tr>\n",
              "            <td>BRIDGEPORT</td>\n",
              "        </tr>\n",
              "        <tr>\n",
              "            <td>BELMONT CRAGIN</td>\n",
              "        </tr>\n",
              "        <tr>\n",
              "            <td>BURNSIDE</td>\n",
              "        </tr>\n",
              "        <tr>\n",
              "            <td>BELMONT CRAGIN</td>\n",
              "        </tr>\n",
              "        <tr>\n",
              "            <td>BRIGHTON PARK</td>\n",
              "        </tr>\n",
              "        <tr>\n",
              "            <td>BRIGHTON PARK</td>\n",
              "        </tr>\n",
              "        <tr>\n",
              "            <td>BEVERLY</td>\n",
              "        </tr>\n",
              "        <tr>\n",
              "            <td>BEVERLY</td>\n",
              "        </tr>\n",
              "        <tr>\n",
              "            <td>BELMONT CRAGIN</td>\n",
              "        </tr>\n",
              "        <tr>\n",
              "            <td>BELMONT CRAGIN</td>\n",
              "        </tr>\n",
              "        <tr>\n",
              "            <td>BRIDGEPORT</td>\n",
              "        </tr>\n",
              "        <tr>\n",
              "            <td>BELMONT CRAGIN</td>\n",
              "        </tr>\n",
              "        <tr>\n",
              "            <td>BELMONT CRAGIN</td>\n",
              "        </tr>\n",
              "        <tr>\n",
              "            <td>BRIGHTON PARK</td>\n",
              "        </tr>\n",
              "        <tr>\n",
              "            <td>BELMONT CRAGIN</td>\n",
              "        </tr>\n",
              "        <tr>\n",
              "            <td>BRIDGEPORT</td>\n",
              "        </tr>\n",
              "        <tr>\n",
              "            <td>BRIDGEPORT</td>\n",
              "        </tr>\n",
              "        <tr>\n",
              "            <td>BRIGHTON PARK</td>\n",
              "        </tr>\n",
              "    </tbody>\n",
              "</table>"
            ]
          },
          "metadata": {},
          "execution_count": 26
        }
      ]
    },
    {
      "cell_type": "code",
      "source": [
        "%sql select name_of_school from CHICAGO_PUBLIC_SCHOOLS where Healthy_School_Certified = 'Yes' and Community_Area_Number BETWEEN 10 AND 15"
      ],
      "metadata": {
        "colab": {
          "base_uri": "https://localhost:8080/",
          "height": 95
        },
        "id": "le4xpL4zHNon",
        "outputId": "403fa2da-e862-48a6-c453-c3848006601e"
      },
      "execution_count": 29,
      "outputs": [
        {
          "output_type": "stream",
          "name": "stdout",
          "text": [
            " * ibm_db_sa://hvc33796:***@6667d8e9-9d4d-4ccb-ba32-21da3bb5aafc.c1ogj3sd0tgtu0lqde00.databases.appdomain.cloud:30376/bludb\n",
            "Done.\n"
          ]
        },
        {
          "output_type": "execute_result",
          "data": {
            "text/plain": [
              "[('Rufus M Hitch Elementary School',)]"
            ],
            "text/html": [
              "<table>\n",
              "    <thead>\n",
              "        <tr>\n",
              "            <th>name_of_school</th>\n",
              "        </tr>\n",
              "    </thead>\n",
              "    <tbody>\n",
              "        <tr>\n",
              "            <td>Rufus M Hitch Elementary School</td>\n",
              "        </tr>\n",
              "    </tbody>\n",
              "</table>"
            ]
          },
          "metadata": {},
          "execution_count": 29
        }
      ]
    },
    {
      "cell_type": "code",
      "source": [
        "%sql select avg(SAFETY_SCORE) from chicago_public_schools "
      ],
      "metadata": {
        "colab": {
          "base_uri": "https://localhost:8080/",
          "height": 95
        },
        "id": "6a3nLBjZINvd",
        "outputId": "239cea8d-367a-43bb-a4c3-3a8c248b4e1e"
      },
      "execution_count": 32,
      "outputs": [
        {
          "output_type": "stream",
          "name": "stdout",
          "text": [
            " * ibm_db_sa://hvc33796:***@6667d8e9-9d4d-4ccb-ba32-21da3bb5aafc.c1ogj3sd0tgtu0lqde00.databases.appdomain.cloud:30376/bludb\n",
            "Done.\n"
          ]
        },
        {
          "output_type": "execute_result",
          "data": {
            "text/plain": [
              "[(49.50487329434698,)]"
            ],
            "text/html": [
              "<table>\n",
              "    <thead>\n",
              "        <tr>\n",
              "            <th>1</th>\n",
              "        </tr>\n",
              "    </thead>\n",
              "    <tbody>\n",
              "        <tr>\n",
              "            <td>49.50487329434698</td>\n",
              "        </tr>\n",
              "    </tbody>\n",
              "</table>"
            ]
          },
          "metadata": {},
          "execution_count": 32
        }
      ]
    },
    {
      "cell_type": "code",
      "source": [
        "%sql select Community_Area_Name, AVG(College_Enrollment) as AVG_ENROLLMENT from CHICAGO_PUBLIC_SCHOOLS group by Community_Area_Name order by AVG_ENROLLMENT desc limit 5"
      ],
      "metadata": {
        "colab": {
          "base_uri": "https://localhost:8080/"
        },
        "id": "k_zD33WpIlSf",
        "outputId": "e36947be-4db0-4f83-e235-c7758021991b"
      },
      "execution_count": 37,
      "outputs": [
        {
          "output_type": "stream",
          "name": "stdout",
          "text": [
            " * ibm_db_sa://hvc33796:***@6667d8e9-9d4d-4ccb-ba32-21da3bb5aafc.c1ogj3sd0tgtu0lqde00.databases.appdomain.cloud:30376/bludb\n",
            "(ibm_db_dbi.ProgrammingError) ibm_db_dbi::ProgrammingError: SQLNumResultCols failed: [IBM][CLI Driver][DB2/LINUXX8664] SQL0134N  Improper use of a string column, host variable, constant, or function \"COMMUNITY_AREA_NAME\".  SQLSTATE=42907 SQLCODE=-134\n",
            "[SQL: select Community_Area_Name, AVG(College_Enrollment) as AVG_ENROLLMENT from CHICAGO_PUBLIC_SCHOOLS group by Community_Area_Name order by AVG_ENROLLMENT desc limit 5]\n",
            "(Background on this error at: http://sqlalche.me/e/13/f405)\n"
          ]
        }
      ]
    },
    {
      "cell_type": "code",
      "source": [
        "CHICAGO_PUBLIC_SCHOOLS.dtypes"
      ],
      "metadata": {
        "colab": {
          "base_uri": "https://localhost:8080/"
        },
        "id": "itSsEPNyJFbf",
        "outputId": "5de289fe-f9cf-4234-82a3-5fb832a8cb06"
      },
      "execution_count": 38,
      "outputs": [
        {
          "output_type": "execute_result",
          "data": {
            "text/plain": [
              "School ID                              int64\n",
              "NAME_OF_SCHOOL                        object\n",
              "Elementary, Middle, or High School    object\n",
              "Street Address                        object\n",
              "City                                  object\n",
              "                                       ...  \n",
              "COMMUNITY_AREA_NUMBER                  int64\n",
              "COMMUNITY_AREA_NAME                   object\n",
              "Ward                                   int64\n",
              "Police District                        int64\n",
              "Location                              object\n",
              "Length: 78, dtype: object"
            ]
          },
          "metadata": {},
          "execution_count": 38
        }
      ]
    },
    {
      "cell_type": "code",
      "source": [
        "%sql select COMMUNITY_AREA_NAME, SAFETY_SCORE from chicago_public_schools where SAFETY_SCORE = ( select MIN(SAFETY_SCORE) from chicago_public_schools )"
      ],
      "metadata": {
        "colab": {
          "base_uri": "https://localhost:8080/",
          "height": 95
        },
        "id": "QkKryJkyJ2sT",
        "outputId": "2813c10d-c5ce-4e2f-9756-a9c16cc479fe"
      },
      "execution_count": 39,
      "outputs": [
        {
          "output_type": "stream",
          "name": "stdout",
          "text": [
            " * ibm_db_sa://hvc33796:***@6667d8e9-9d4d-4ccb-ba32-21da3bb5aafc.c1ogj3sd0tgtu0lqde00.databases.appdomain.cloud:30376/bludb\n",
            "Done.\n"
          ]
        },
        {
          "output_type": "execute_result",
          "data": {
            "text/plain": [
              "[('WASHINGTON PARK', 1.0)]"
            ],
            "text/html": [
              "<table>\n",
              "    <thead>\n",
              "        <tr>\n",
              "            <th>community_area_name</th>\n",
              "            <th>safety_score</th>\n",
              "        </tr>\n",
              "    </thead>\n",
              "    <tbody>\n",
              "        <tr>\n",
              "            <td>WASHINGTON PARK</td>\n",
              "            <td>1.0</td>\n",
              "        </tr>\n",
              "    </tbody>\n",
              "</table>"
            ]
          },
          "metadata": {},
          "execution_count": 39
        }
      ]
    },
    {
      "cell_type": "code",
      "source": [
        "%sql select community_area_number, community_area_name, per_capita_income from census_data where community_area_number = ( select community_area_number from chicago_public_schools where safety_score =1 )"
      ],
      "metadata": {
        "colab": {
          "base_uri": "https://localhost:8080/",
          "height": 95
        },
        "id": "k379hMN1KPYF",
        "outputId": "ee95b077-97c0-46e5-b4be-081f9427b096"
      },
      "execution_count": 40,
      "outputs": [
        {
          "output_type": "stream",
          "name": "stdout",
          "text": [
            " * ibm_db_sa://hvc33796:***@6667d8e9-9d4d-4ccb-ba32-21da3bb5aafc.c1ogj3sd0tgtu0lqde00.databases.appdomain.cloud:30376/bludb\n",
            "Done.\n"
          ]
        },
        {
          "output_type": "execute_result",
          "data": {
            "text/plain": [
              "[(40.0, 'Washington Park', 13785)]"
            ],
            "text/html": [
              "<table>\n",
              "    <thead>\n",
              "        <tr>\n",
              "            <th>community_area_number</th>\n",
              "            <th>community_area_name</th>\n",
              "            <th>PER_CAPITA_INCOME </th>\n",
              "        </tr>\n",
              "    </thead>\n",
              "    <tbody>\n",
              "        <tr>\n",
              "            <td>40.0</td>\n",
              "            <td>Washington Park</td>\n",
              "            <td>13785</td>\n",
              "        </tr>\n",
              "    </tbody>\n",
              "</table>"
            ]
          },
          "metadata": {},
          "execution_count": 40
        }
      ]
    },
    {
      "cell_type": "code",
      "source": [
        "%sql select CD.community_area_number, CD.community_area_name, CD.per_capita_income from census_data CD, chicago_public_schools CPS where CD.community_area_number=CPS.community_area_number and CPS.safety_score = 1"
      ],
      "metadata": {
        "colab": {
          "base_uri": "https://localhost:8080/",
          "height": 95
        },
        "id": "hQrF41j6Kqsv",
        "outputId": "ab596d8c-8790-427a-abd0-c139ad1344f5"
      },
      "execution_count": 41,
      "outputs": [
        {
          "output_type": "stream",
          "name": "stdout",
          "text": [
            " * ibm_db_sa://hvc33796:***@6667d8e9-9d4d-4ccb-ba32-21da3bb5aafc.c1ogj3sd0tgtu0lqde00.databases.appdomain.cloud:30376/bludb\n",
            "Done.\n"
          ]
        },
        {
          "output_type": "execute_result",
          "data": {
            "text/plain": [
              "[(40.0, 'Washington Park', 13785)]"
            ],
            "text/html": [
              "<table>\n",
              "    <thead>\n",
              "        <tr>\n",
              "            <th>community_area_number</th>\n",
              "            <th>community_area_name</th>\n",
              "            <th>PER_CAPITA_INCOME </th>\n",
              "        </tr>\n",
              "    </thead>\n",
              "    <tbody>\n",
              "        <tr>\n",
              "            <td>40.0</td>\n",
              "            <td>Washington Park</td>\n",
              "            <td>13785</td>\n",
              "        </tr>\n",
              "    </tbody>\n",
              "</table>"
            ]
          },
          "metadata": {},
          "execution_count": 41
        }
      ]
    },
    {
      "cell_type": "code",
      "source": [
        ""
      ],
      "metadata": {
        "id": "Pn3B8lsCKusU"
      },
      "execution_count": null,
      "outputs": []
    }
  ]
}