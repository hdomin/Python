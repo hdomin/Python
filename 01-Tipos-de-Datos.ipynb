{
  "nbformat": 4,
  "nbformat_minor": 0,
  "metadata": {
    "colab": {
      "name": "01-Tipo-de-Datos.ipynb",
      "provenance": [],
      "authorship_tag": "ABX9TyOOVQi8O3T1sFtUkYJUsZrq",
      "include_colab_link": true
    },
    "kernelspec": {
      "name": "python3",
      "display_name": "Python 3"
    },
    "language_info": {
      "name": "python"
    }
  },
  "cells": [
    {
      "cell_type": "markdown",
      "metadata": {
        "id": "view-in-github",
        "colab_type": "text"
      },
      "source": [
        "<a href=\"https://colab.research.google.com/github/hdomin/Python/blob/main/01-Tipos-de-Datos.ipynb\" target=\"_parent\"><img src=\"https://colab.research.google.com/assets/colab-badge.svg\" alt=\"Open In Colab\"/></a>"
      ]
    },
    {
      "cell_type": "markdown",
      "source": [
        "# Variables\n",
        "- El nombre de una variable **no** debe de iniciar con número ni utilizar caracteres especiales\n",
        "- No necesita indicar el tipo de variable"
      ],
      "metadata": {
        "id": "q2R84OD3l3og"
      }
    },
    {
      "cell_type": "code",
      "source": [
        "numero_entero = 129\n",
        "flotante = 3.1416\n",
        "texto = 'Este es mi primer texto'\n",
        "boolean = True\n",
        "nullable = None\n",
        "lista = ['lista', 'de', 'elementos']"
      ],
      "metadata": {
        "id": "xhYHA3zMmG-f"
      },
      "execution_count": 2,
      "outputs": []
    },
    {
      "cell_type": "code",
      "source": [
        "print( lista )"
      ],
      "metadata": {
        "colab": {
          "base_uri": "https://localhost:8080/"
        },
        "id": "voxLUUyMv60F",
        "outputId": "8cf48144-3c60-421e-8158-69996712ebf5"
      },
      "execution_count": 3,
      "outputs": [
        {
          "output_type": "stream",
          "name": "stdout",
          "text": [
            "['lista', 'de', 'elementos']\n"
          ]
        }
      ]
    }
  ]
}