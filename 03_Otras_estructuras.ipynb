{
  "nbformat": 4,
  "nbformat_minor": 0,
  "metadata": {
    "colab": {
      "name": "03_Otras_estructuras.ipynb",
      "provenance": [],
      "authorship_tag": "ABX9TyPo2oOc5MLNRQnXVDhBum3g",
      "include_colab_link": true
    },
    "kernelspec": {
      "name": "python3",
      "display_name": "Python 3"
    },
    "language_info": {
      "name": "python"
    }
  },
  "cells": [
    {
      "cell_type": "markdown",
      "metadata": {
        "id": "view-in-github",
        "colab_type": "text"
      },
      "source": [
        "<a href=\"https://colab.research.google.com/github/hdomin/Python/blob/main/03_Otras_estructuras.ipynb\" target=\"_parent\"><img src=\"https://colab.research.google.com/assets/colab-badge.svg\" alt=\"Open In Colab\"/></a>"
      ]
    },
    {
      "cell_type": "markdown",
      "source": [
        "# Listas\n",
        "- La diferencia principal entre tuplas y listas, es que las tuplas son inmutables, es decir, no pueden cambiar de valor"
      ],
      "metadata": {
        "id": "3klbB-Ian2AB"
      }
    },
    {
      "cell_type": "code",
      "source": [
        "lista_1 = [ 'a', 'x', 'y']\n",
        "lista_2 = [ 1, '2', 'y']"
      ],
      "metadata": {
        "id": "VLrodjDPn3pr"
      },
      "execution_count": 1,
      "outputs": []
    },
    {
      "cell_type": "markdown",
      "source": [
        "Algunas operaciones importantes que no se vieron en el notebook anterior:"
      ],
      "metadata": {
        "id": "65IpVNKboIDe"
      }
    },
    {
      "cell_type": "code",
      "source": [
        "lista_3 = lista_1 + lista_2\n",
        "print(lista_3)\n",
        "lista_3.extend(['r', 's', 'a'])\n",
        "print(lista_3)"
      ],
      "metadata": {
        "colab": {
          "base_uri": "https://localhost:8080/"
        },
        "id": "4Dhk_RsjoPY4",
        "outputId": "f48925e3-ae4a-4672-b749-41b2ffc8432c"
      },
      "execution_count": 17,
      "outputs": [
        {
          "output_type": "stream",
          "name": "stdout",
          "text": [
            "['a', 'x', 'y', 1, '2', 'y']\n",
            "['a', 'x', 'y', 1, '2', 'y', 'r', 's', 'a']\n"
          ]
        }
      ]
    },
    {
      "cell_type": "code",
      "source": [
        "print( lista_3.count('a'))\n",
        "print( lista_3.index('a'))\n",
        "lista_3.insert(1, 22)\n",
        "print( lista_3 )\n",
        "lista_3.append('cuadrado')\n",
        "print(lista_3)\n",
        "lista_3.clear()\n",
        "print(lista_3)"
      ],
      "metadata": {
        "colab": {
          "base_uri": "https://localhost:8080/"
        },
        "id": "Oz1QoBVKoxrE",
        "outputId": "4b73ec9b-e296-43d7-a048-d2ccc9cef97e"
      },
      "execution_count": 18,
      "outputs": [
        {
          "output_type": "stream",
          "name": "stdout",
          "text": [
            "2\n",
            "0\n",
            "['a', 22, 'x', 'y', 1, '2', 'y', 'r', 's', 'a']\n",
            "['a', 22, 'x', 'y', 1, '2', 'y', 'r', 's', 'a', 'cuadrado']\n",
            "[]\n"
          ]
        }
      ]
    },
    {
      "cell_type": "markdown",
      "source": [
        "# Diccionarios"
      ],
      "metadata": {
        "id": "vQV6150zqN4g"
      }
    },
    {
      "cell_type": "code",
      "source": [
        "dic_1 = { \"nombre\": \"Héctor\", \"pais\": \"Guatemala\", \"github\" : \"hdomin\"}\n",
        "dic_2 = dict(nombre = \"Héctor\", pais = \"Guatemala\", github = \"hdomin\")\n",
        "\n",
        "print( dic_1 )\n",
        "print( dic_2 )\n",
        "print( dic_1 is dic_2)"
      ],
      "metadata": {
        "colab": {
          "base_uri": "https://localhost:8080/"
        },
        "id": "25jaLZWcqQYr",
        "outputId": "a921db1f-c30c-462b-d8d4-3a6f09b1ab1b"
      },
      "execution_count": 25,
      "outputs": [
        {
          "output_type": "stream",
          "name": "stdout",
          "text": [
            "{'nombre': 'Héctor', 'pais': 'Guatemala', 'github': 'hdomin'}\n",
            "{'nombre': 'Héctor', 'pais': 'Guatemala', 'github': 'hdomin'}\n",
            "False\n"
          ]
        }
      ]
    },
    {
      "cell_type": "code",
      "source": [
        "print( dic_1.get(\"nombre\") )\n",
        "print( dic_1[\"nombre\"] )\n",
        "\n",
        "dic_2['nombre'] = 'Test'\n",
        "print( dic_2['nombre'])\n",
        "\n",
        "dic_2['carrera'] = 'Ingeniería'\n",
        "print( dic_2.get('carrera'))\n",
        "\n",
        "dic_2.update({'carrera': 'sistemas'})\n",
        "print( dic_2 ) "
      ],
      "metadata": {
        "colab": {
          "base_uri": "https://localhost:8080/"
        },
        "id": "F1VPJro9rVer",
        "outputId": "22a1f83b-9658-4897-a63c-cc638b130547"
      },
      "execution_count": 39,
      "outputs": [
        {
          "output_type": "stream",
          "name": "stdout",
          "text": [
            "Héctor\n",
            "Héctor\n",
            "Test\n",
            "Ingeniería\n",
            "{'nombre': 'Test', 'pais': 'Guatemala', 'github': 'hdomin', 'carrera': 'sistemas'}\n"
          ]
        }
      ]
    },
    {
      "cell_type": "code",
      "source": [
        "dic_3 = dic_2.copy()\n",
        "print( dic_3 )"
      ],
      "metadata": {
        "colab": {
          "base_uri": "https://localhost:8080/"
        },
        "id": "Oqzlc-HfsM9S",
        "outputId": "fd9f1a34-f510-4a2f-e8bc-310e6c3c9d82"
      },
      "execution_count": 31,
      "outputs": [
        {
          "output_type": "stream",
          "name": "stdout",
          "text": [
            "{'nombre': 'Test', 'pais': 'Guatemala', 'github': 'hdomin', 'carrera': 'Ingeniería'}\n"
          ]
        }
      ]
    },
    {
      "cell_type": "code",
      "source": [
        "for key, value in dic_3.items():\n",
        "  print( 'llave: {0}, valor: {1}'.format(key, value) )\n"
      ],
      "metadata": {
        "colab": {
          "base_uri": "https://localhost:8080/"
        },
        "id": "bPCAd8YEsh0s",
        "outputId": "fcff07bc-5df1-4941-81b4-d9628b6d640e"
      },
      "execution_count": 40,
      "outputs": [
        {
          "output_type": "stream",
          "name": "stdout",
          "text": [
            "llave: nombre, valor: Test\n",
            "llave: pais, valor: Guatemala\n",
            "llave: github, valor: hdomin\n",
            "llave: carrera, valor: Ingeniería\n"
          ]
        }
      ]
    },
    {
      "cell_type": "code",
      "source": [
        "for item in dic_3.keys():\n",
        "  print( 'llave: {0}'.format(item) )"
      ],
      "metadata": {
        "colab": {
          "base_uri": "https://localhost:8080/"
        },
        "id": "CbXgx1itt0VA",
        "outputId": "37b07a01-a3fe-4fa1-811e-de544f4c63c4"
      },
      "execution_count": 38,
      "outputs": [
        {
          "output_type": "stream",
          "name": "stdout",
          "text": [
            "llave: nombre\n",
            "llave: pais\n",
            "llave: github\n",
            "llave: carrera\n"
          ]
        }
      ]
    },
    {
      "cell_type": "markdown",
      "source": [
        "# Sets\n",
        "- Son conjuntos y se pueden operar como ellos, no tienen orden"
      ],
      "metadata": {
        "id": "c4K4zzjhvyps"
      }
    },
    {
      "cell_type": "code",
      "source": [
        "s1 = { 'cuadrado', 'círculo' }\n",
        "s2 = { 'cuadrado', 'triángulo' }\n",
        "\n",
        "\n",
        "print( s1.union(s2) )\n",
        "print( s1.intersection(s2))\n",
        "print( s1.difference(s2))\n",
        "print( s1.symmetric_difference(s2))"
      ],
      "metadata": {
        "colab": {
          "base_uri": "https://localhost:8080/"
        },
        "id": "mQiAI1d4v4-e",
        "outputId": "103a1752-54aa-4268-f7d8-5ac723e09ba8"
      },
      "execution_count": 45,
      "outputs": [
        {
          "output_type": "stream",
          "name": "stdout",
          "text": [
            "{'círculo', 'cuadrado', 'triángulo'}\n",
            "{'cuadrado'}\n",
            "{'círculo'}\n",
            "{'círculo', 'triángulo'}\n"
          ]
        }
      ]
    }
  ]
}