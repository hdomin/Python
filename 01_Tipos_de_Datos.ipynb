{
  "nbformat": 4,
  "nbformat_minor": 0,
  "metadata": {
    "colab": {
      "name": "01_Tipos_de_Datos.ipynb",
      "provenance": [],
      "collapsed_sections": [],
      "authorship_tag": "ABX9TyMsft1MenHTwGfr504cDGZM",
      "include_colab_link": true
    },
    "kernelspec": {
      "name": "python3",
      "display_name": "Python 3"
    },
    "language_info": {
      "name": "python"
    }
  },
  "cells": [
    {
      "cell_type": "markdown",
      "metadata": {
        "id": "view-in-github",
        "colab_type": "text"
      },
      "source": [
        "<a href=\"https://colab.research.google.com/github/hdomin/Python/blob/main/01_Tipos_de_Datos.ipynb\" target=\"_parent\"><img src=\"https://colab.research.google.com/assets/colab-badge.svg\" alt=\"Open In Colab\"/></a>"
      ]
    },
    {
      "cell_type": "markdown",
      "source": [
        "# Variables\n",
        "El nombre de una variable **no** debe de iniciar con número ni utilizar caracteres especiales.\n",
        "\n",
        "No necesita indicar el tipo de variable."
      ],
      "metadata": {
        "id": "q2R84OD3l3og"
      }
    },
    {
      "cell_type": "code",
      "source": [
        "numero_entero = 129\n",
        "flotante = 3.1416\n",
        "texto = 'Este es mi primer texto'\n",
        "TEXTO = \"Esta es otra variable\"\n",
        "boolean = True\n",
        "nullable = None\n",
        "_permitido = 'También es permitido este nombre'\n",
        "lista = ['lista', 'de', 'elementos']"
      ],
      "metadata": {
        "id": "xhYHA3zMmG-f"
      },
      "execution_count": 3,
      "outputs": []
    },
    {
      "cell_type": "code",
      "source": [
        "print( texto )\n",
        "print(\"Hola, {0}! El valor de PI es {1}\".format(TEXTO, flotante))\n",
        "print(f'{_permitido}!')"
      ],
      "metadata": {
        "colab": {
          "base_uri": "https://localhost:8080/"
        },
        "id": "voxLUUyMv60F",
        "outputId": "ef971fbc-87ec-46ba-d1b4-a0aa8fddf722"
      },
      "execution_count": 7,
      "outputs": [
        {
          "output_type": "stream",
          "name": "stdout",
          "text": [
            "Este es mi primer texto\n",
            "Hola, Esta es otra variable! El valor de PI es 3.1416\n",
            "También es permitido este nombre!\n"
          ]
        }
      ]
    },
    {
      "cell_type": "markdown",
      "source": [
        "¿Cómo imprimir el tipo de dato de una variable?"
      ],
      "metadata": {
        "id": "Mz7riDZbxjER"
      }
    },
    {
      "cell_type": "code",
      "source": [
        "print(type(numero_entero))\n",
        "print(type(flotante))\n",
        "print(type(texto))\n",
        "print(type(nullable))\n",
        "print(type(boolean))\n",
        "print(type(lista))\n"
      ],
      "metadata": {
        "colab": {
          "base_uri": "https://localhost:8080/"
        },
        "id": "kOe-NoLqxuBy",
        "outputId": "a8f9fcdb-f808-4f75-8eec-119278dbf3e9"
      },
      "execution_count": null,
      "outputs": [
        {
          "output_type": "stream",
          "name": "stdout",
          "text": [
            "<class 'int'>\n",
            "<class 'float'>\n",
            "<class 'str'>\n",
            "<class 'NoneType'>\n",
            "<class 'bool'>\n",
            "<class 'list'>\n"
          ]
        }
      ]
    },
    {
      "cell_type": "markdown",
      "source": [
        "Alcance de variables"
      ],
      "metadata": {
        "id": "FYXLoaSSz7UE"
      }
    },
    {
      "cell_type": "code",
      "source": [
        "x = \"cuadrado\"\n",
        "\n",
        "def figura():\n",
        "  global y \n",
        "\n",
        "  y = \"rectángulo\"\n",
        "  x = \"triángulo\"\n",
        "  print(x)\n",
        "\n",
        "\n",
        "print(x)\n",
        "print(y)\n",
        "\n",
        "figura()\n",
        "print(x)"
      ],
      "metadata": {
        "colab": {
          "base_uri": "https://localhost:8080/"
        },
        "id": "N7B0MM7Nz_Zs",
        "outputId": "da51cffe-0da1-4553-9be7-db03016ec2f5"
      },
      "execution_count": null,
      "outputs": [
        {
          "output_type": "stream",
          "name": "stdout",
          "text": [
            "cuadrado\n",
            "rectángulo\n",
            "triángulo\n",
            "cuadrado\n"
          ]
        }
      ]
    }
  ]
}