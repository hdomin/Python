{
  "nbformat": 4,
  "nbformat_minor": 0,
  "metadata": {
    "colab": {
      "name": "05_Expresiones regulares.ipynb",
      "provenance": [],
      "collapsed_sections": [],
      "authorship_tag": "ABX9TyP6UbUlHNcwqmyu4KD/WcM8",
      "include_colab_link": true
    },
    "kernelspec": {
      "name": "python3",
      "display_name": "Python 3"
    },
    "language_info": {
      "name": "python"
    }
  },
  "cells": [
    {
      "cell_type": "markdown",
      "metadata": {
        "id": "view-in-github",
        "colab_type": "text"
      },
      "source": [
        "<a href=\"https://colab.research.google.com/github/hdomin/Python/blob/main/05_Expresiones_regulares.ipynb\" target=\"_parent\"><img src=\"https://colab.research.google.com/assets/colab-badge.svg\" alt=\"Open In Colab\"/></a>"
      ]
    },
    {
      "cell_type": "markdown",
      "source": [
        "#Expresiones regulares\n",
        "\n",
        "- Caracteres especiales: \n",
        "\n",
        "  . cualquier caracter excepto una nueva línea\n",
        "\n",
        "  ^ match al inicio del string en cada línea\n",
        "\n",
        "  $ match al final del string en cada línea\n",
        "\n",
        "  * cero o más repeticiones\n",
        "\n",
        "  + una o más repeticiones\n",
        "\n",
        "  ? cero o una repetición\n",
        "\n",
        "  {m} m copias exactas\n",
        "\n",
        "  {m,n} de m a n copias\n",
        "\n",
        "  \\ escape para caracteres especiales\n",
        "\n",
        "  [] indica un set de caracteres\n",
        "\n",
        "  [0-9a-z] set de caracteres de \"0\" a \"9\" y de \"a\" a \"z\"\n",
        "\n",
        "  |  o uno o lo otro\n",
        "\n",
        "  () subset de expresion regular\n",
        "\n",
        "  \\A forza el match solamente al inicio del string\n",
        "\n",
        "  \\b forza el match solamente al inicio o al final de una palabra\n",
        "\n",
        "  \\B forza el match solamente si no está al inicio al al final de una palabra\n",
        "\n",
        "  \\d match dígitos decimales [0-9]\n",
        "\n",
        "  \\D match cualquier caracter que no son dígitos decimales  [^0-9]\n",
        "\n",
        "  \\s match de caracteres especiales: [\\t\\n\\r\\f\\v]\n",
        "\n",
        "  \\S match cualquier caracter que no es especial\n",
        "\n",
        "  \\w match cualquier caracter [a-zA-Z0-9_]\n",
        "\n",
        "  \\W match todo caracter que no es letra o número ni _  [^a-zA-Z0-9_]\n",
        "\n",
        "  \\Z match solamente al final de un string"
      ],
      "metadata": {
        "id": "3ryv3UJA33fr"
      }
    },
    {
      "cell_type": "code",
      "execution_count": 10,
      "metadata": {
        "colab": {
          "base_uri": "https://localhost:8080/"
        },
        "id": "pcm62VQV3y1L",
        "outputId": "74b1170d-bac2-4bf1-c90a-a921d41d28e9"
      },
      "outputs": [
        {
          "output_type": "stream",
          "name": "stdout",
          "text": [
            "<re.Match object; span=(5, 7), match='es'>\n",
            "<re.Match object; span=(5, 7), match='es'>\n"
          ]
        }
      ],
      "source": [
        "import re\n",
        "\n",
        "cadena = \"Esta es una prueba para validar, la fecha de hoy 2022-03-24\"\n",
        "\n",
        "m = re.search('es', cadena)\n",
        "print( m )\n",
        "\n",
        "# Or\n",
        "\n",
        "c = re.compile('es')\n",
        "print( c.search(cadena))\n",
        "\n"
      ]
    },
    {
      "cell_type": "markdown",
      "source": [
        "Referencia: https://docs.python.org/3/library/re.html\n"
      ],
      "metadata": {
        "id": "Yi6uDOwt-Rhl"
      }
    }
  ]
}