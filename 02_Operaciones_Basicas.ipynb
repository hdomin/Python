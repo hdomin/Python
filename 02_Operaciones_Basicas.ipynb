{
  "nbformat": 4,
  "nbformat_minor": 0,
  "metadata": {
    "colab": {
      "name": "02_Operaciones_Basicas.ipynb",
      "provenance": [],
      "collapsed_sections": [],
      "authorship_tag": "ABX9TyNRSb12uygV+Jn97+4k5K6R",
      "include_colab_link": true
    },
    "kernelspec": {
      "name": "python3",
      "display_name": "Python 3"
    },
    "language_info": {
      "name": "python"
    }
  },
  "cells": [
    {
      "cell_type": "markdown",
      "metadata": {
        "id": "view-in-github",
        "colab_type": "text"
      },
      "source": [
        "<a href=\"https://colab.research.google.com/github/hdomin/Python/blob/main/02_Operaciones_Basicas.ipynb\" target=\"_parent\"><img src=\"https://colab.research.google.com/assets/colab-badge.svg\" alt=\"Open In Colab\"/></a>"
      ]
    },
    {
      "cell_type": "markdown",
      "source": [
        "# Operaciones aritméticas y lógicas\n",
        "En este simple ejemplo podrá aprender una serie de operaciones aritméticas y lógicas.\n",
        "\n",
        "Este es un ejemplo simple de cómo realizar una división paso a paso (como en papel) y obtener el resultado en decimales."
      ],
      "metadata": {
        "id": "hT1VP8-85Ogi"
      }
    },
    {
      "cell_type": "code",
      "source": [
        "def dividir(numerador, denominador):\n",
        "  \n",
        "  num = [c for c in str(abs(numerador))]\n",
        "  divisor = [ 1 ]\n",
        "  decimales = 4\n",
        "  resultado = []\n",
        "  continuar = True\n",
        "  acarreo = 0\n",
        "\n",
        "  while continuar:\n",
        "    valor = getNumero(acarreo, num, abs(denominador), divisor, decimales)\n",
        "    res = valor // abs(denominador)\n",
        "    acarreo = valor % abs(denominador)\n",
        "    resultado.append(str(res))\n",
        "    continuar = divisor[0] < 10**decimales\n",
        "\n",
        "  print( int(\"\".join(resultado)) / divisor[0] * (-1 if numerador / denominador < 0 else 1) )\n",
        "\n",
        "\n",
        "# Obtiene el siguiente elemento de la lista si el número es menor\n",
        "def getNumero( val, numerador, denominador, divisor, decimales):\n",
        "  if divisor[0] < 10**decimales:\n",
        "    if len(numerador) == 0:\n",
        "      num = val * 10\n",
        "      divisor[0] *= 10\n",
        "    else:\n",
        "      num = val * 10 + int(numerador.pop(0))\n",
        "\n",
        "      if num < denominador :\n",
        "        num = getNumero(num, numerador, denominador, divisor, decimales)\n",
        "  else:\n",
        "    num = val\n",
        "\n",
        "  return num\n",
        "\n",
        "\n",
        "dividir( -25, -51)"
      ],
      "metadata": {
        "colab": {
          "base_uri": "https://localhost:8080/"
        },
        "id": "x98EXcnK5PNu",
        "outputId": "41620d2f-f781-4dcc-a484-345914c8db90"
      },
      "execution_count": 64,
      "outputs": [
        {
          "output_type": "stream",
          "name": "stdout",
          "text": [
            "0.4901\n"
          ]
        }
      ]
    },
    {
      "cell_type": "code",
      "source": [
        "dividir(10, 3)"
      ],
      "metadata": {
        "colab": {
          "base_uri": "https://localhost:8080/"
        },
        "id": "K_NN_DNQ5rdp",
        "outputId": "8f468902-791e-4350-9a6c-e88ade914cae"
      },
      "execution_count": 65,
      "outputs": [
        {
          "output_type": "stream",
          "name": "stdout",
          "text": [
            "3.3333\n"
          ]
        }
      ]
    }
  ]
}