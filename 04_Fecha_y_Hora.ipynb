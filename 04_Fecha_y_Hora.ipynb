{
  "nbformat": 4,
  "nbformat_minor": 0,
  "metadata": {
    "colab": {
      "name": "04_Fecha y Hora.ipynb",
      "provenance": [],
      "collapsed_sections": [],
      "authorship_tag": "ABX9TyPdlWdkQ7NCNk7Ch0VZYysK",
      "include_colab_link": true
    },
    "kernelspec": {
      "name": "python3",
      "display_name": "Python 3"
    },
    "language_info": {
      "name": "python"
    }
  },
  "cells": [
    {
      "cell_type": "markdown",
      "metadata": {
        "id": "view-in-github",
        "colab_type": "text"
      },
      "source": [
        "<a href=\"https://colab.research.google.com/github/hdomin/Python/blob/main/04_Fecha_y_Hora.ipynb\" target=\"_parent\"><img src=\"https://colab.research.google.com/assets/colab-badge.svg\" alt=\"Open In Colab\"/></a>"
      ]
    },
    {
      "cell_type": "markdown",
      "source": [
        "#Fecha\n",
        "\n",
        "- El formato de fecha es yyyy-mm-dd\n",
        "- Los meses de 1..12\n",
        "- Los días de 1..último día del mes"
      ],
      "metadata": {
        "id": "Zr3xKLyxqxml"
      }
    },
    {
      "cell_type": "code",
      "execution_count": 1,
      "metadata": {
        "colab": {
          "base_uri": "https://localhost:8080/"
        },
        "id": "lYge7AcyqiHg",
        "outputId": "e931ac2e-fcac-4397-9f01-b064cde8992a"
      },
      "outputs": [
        {
          "output_type": "stream",
          "name": "stdout",
          "text": [
            "2022-03-24\n"
          ]
        }
      ],
      "source": [
        "from datetime import date\n",
        "\n",
        "fecha = date(year=2022, month=3, day=24)\n",
        "print(fecha)"
      ]
    },
    {
      "cell_type": "markdown",
      "source": [
        "- Obtener diferentes valores de la fecha corriente\n",
        "- Utilización de relativedelta"
      ],
      "metadata": {
        "id": "nqHazJtNsNew"
      }
    },
    {
      "cell_type": "markdown",
      "source": [
        ""
      ],
      "metadata": {
        "id": "yzaCSUrnsKnc"
      }
    },
    {
      "cell_type": "code",
      "source": [
        "fecha_actual = date.today()\n",
        "from dateutil.relativedelta import relativedelta\n",
        "\n",
        "print('Fecha actual:',fecha_actual)\n",
        "print('Tipo:',type(fecha_actual))\n",
        "\n",
        "print('Número de día:',fecha_actual.day)\n",
        "\n",
        "print('Primer día del mes:',fecha_actual.replace(day=1))\n",
        "\n",
        "print('Último día del mes de Febrero:', fecha_actual.replace(month=2) + relativedelta(day=31))"
      ],
      "metadata": {
        "colab": {
          "base_uri": "https://localhost:8080/"
        },
        "id": "zRMRAQUEsS5a",
        "outputId": "2e44baaf-a681-4a2c-fc1e-9d177eeaf028"
      },
      "execution_count": 18,
      "outputs": [
        {
          "output_type": "stream",
          "name": "stdout",
          "text": [
            "Fecha actual: 2022-03-24\n",
            "Tipo: <class 'datetime.date'>\n",
            "Número de día: 24\n",
            "Primer día del mes: 2022-03-01\n",
            "Último día del mes: 2022-02-28\n"
          ]
        }
      ]
    },
    {
      "cell_type": "markdown",
      "source": [
        "#Hora / Tiempo"
      ],
      "metadata": {
        "id": "IK8-kCamu62W"
      }
    },
    {
      "cell_type": "code",
      "source": [
        "import datetime\n",
        "from datetime import time\n",
        "\n",
        "tiempo = time(hour=15, minute=2, second=25)\n",
        "\n",
        "print('La hora:', tiempo)\n",
        "print('Tipo:', type(tiempo))\n"
      ],
      "metadata": {
        "colab": {
          "base_uri": "https://localhost:8080/"
        },
        "id": "CBXNs_kGu5TR",
        "outputId": "854c2f8d-2668-45e1-d9c5-21cc531099ae"
      },
      "execution_count": 25,
      "outputs": [
        {
          "output_type": "stream",
          "name": "stdout",
          "text": [
            "La hora: 15:02:25\n",
            "Tipo: <class 'datetime.time'>\n"
          ]
        }
      ]
    },
    {
      "cell_type": "markdown",
      "source": [
        "- Fecha y hora actual"
      ],
      "metadata": {
        "id": "inO47icywt9S"
      }
    },
    {
      "cell_type": "code",
      "source": [
        "from datetime import datetime\n",
        "\n",
        "ahora = datetime.now()\n",
        "\n",
        "print('Fecha y hora actual:', ahora)\n",
        "print('Tipo:', type(ahora))"
      ],
      "metadata": {
        "colab": {
          "base_uri": "https://localhost:8080/"
        },
        "id": "0_rGRTMqwygN",
        "outputId": "49e4f811-a42a-40e1-e070-cc8ff1df9ac4"
      },
      "execution_count": 28,
      "outputs": [
        {
          "output_type": "stream",
          "name": "stdout",
          "text": [
            "Fecha y hora actual: 2022-03-24 21:10:31.353066\n",
            "Tipo: <class 'datetime.datetime'>\n"
          ]
        }
      ]
    },
    {
      "cell_type": "markdown",
      "source": [
        "- Otros conceptos"
      ],
      "metadata": {
        "id": "CHxPVj80xeFB"
      }
    },
    {
      "cell_type": "code",
      "source": [
        "fecha_hora = datetime( year=2022, month=3, day=24)\n",
        "print(fecha_hora)\n",
        "\n",
        "fecha_hora = datetime( year=2022, month=3, day=24, minute=13)\n",
        "print(fecha_hora)\n",
        "\n",
        "print('15 días después:', fecha_hora + relativedelta(days=15))\n",
        "print('1 año antes:', fecha_hora + relativedelta(years=-1))\n",
        "print('500 minutos después:', fecha_hora + relativedelta(minutes=500))"
      ],
      "metadata": {
        "colab": {
          "base_uri": "https://localhost:8080/"
        },
        "id": "9rWOfVeFxdL4",
        "outputId": "2b6d1ebc-f160-4838-8549-248e88e9389b"
      },
      "execution_count": 36,
      "outputs": [
        {
          "output_type": "stream",
          "name": "stdout",
          "text": [
            "2022-03-24 00:00:00\n",
            "2022-03-24 00:13:00\n",
            "15 días después: 2022-04-08 00:13:00\n",
            "1 año antes: 2021-03-24 00:13:00\n",
            "500 minutos después: 2022-03-24 08:33:00\n"
          ]
        }
      ]
    }
  ]
}